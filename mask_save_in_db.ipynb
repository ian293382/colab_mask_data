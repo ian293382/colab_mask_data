{
  "nbformat": 4,
  "nbformat_minor": 0,
  "metadata": {
    "colab": {
      "provenance": [],
      "authorship_tag": "ABX9TyN/sHhbeU2tHhbiyj4CCp9W",
      "include_colab_link": true
    },
    "kernelspec": {
      "name": "python3",
      "display_name": "Python 3"
    },
    "language_info": {
      "name": "python"
    }
  },
  "cells": [
    {
      "cell_type": "markdown",
      "metadata": {
        "id": "view-in-github",
        "colab_type": "text"
      },
      "source": [
        "<a href=\"https://colab.research.google.com/github/ian293382/colab_mask_data/blob/main/mask_save_in_db.ipynb\" target=\"_parent\"><img src=\"https://colab.research.google.com/assets/colab-badge.svg\" alt=\"Open In Colab\"/></a>"
      ]
    },
    {
      "cell_type": "markdown",
      "source": [
        "1. 請問將結果 (A) 維持在 Python 程式碼執行環境中 (B) 存成一個 .csv 檔案 (C) 放入資料庫當中，這三種保存資料的方法有什麼不同？\n",
        "\n",
        "\n",
        "對於需要快速訪問和處理但不需要持久存儲的數據，可以選擇保持在程式執行環境中。(即時訪問 處理)\n",
        "\n",
        "如果數據需要被不同的使用者或程式訪問，或需要長期存儲但結構簡單，可以選擇 .csv 檔案。(易於共享和移植)\n",
        "\n",
        "對於需要高效處理大量數據、確保數據安全和完整性的情景，使用資料庫是更好的選擇。（安全性和一致性 以及併發控制）"
      ],
      "metadata": {
        "id": "_TnKsZKaj1SM"
      }
    },
    {
      "cell_type": "code",
      "source": [],
      "metadata": {
        "id": "o22OOIaKmTtM"
      },
      "execution_count": null,
      "outputs": []
    }
  ]
}