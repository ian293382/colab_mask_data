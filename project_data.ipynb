{
  "nbformat": 4,
  "nbformat_minor": 0,
  "metadata": {
    "colab": {
      "provenance": [],
      "authorship_tag": "ABX9TyNkxWxmCRyjNKgUnjeozfDw",
      "include_colab_link": true
    },
    "kernelspec": {
      "name": "python3",
      "display_name": "Python 3"
    },
    "language_info": {
      "name": "python"
    }
  },
  "cells": [
    {
      "cell_type": "markdown",
      "metadata": {
        "id": "view-in-github",
        "colab_type": "text"
      },
      "source": [
        "<a href=\"https://colab.research.google.com/github/ian293382/colab_mask_data/blob/main/project_data.ipynb\" target=\"_parent\"><img src=\"https://colab.research.google.com/assets/colab-badge.svg\" alt=\"Open In Colab\"/></a>"
      ]
    },
    {
      "cell_type": "code",
      "execution_count": 29,
      "metadata": {
        "id": "xuD_7Hdfp-8x",
        "colab": {
          "base_uri": "https://localhost:8080/"
        },
        "outputId": "7449de35-ac3d-4926-f9f7-b63a71343c7c"
      },
      "outputs": [
        {
          "output_type": "stream",
          "name": "stdout",
          "text": [
            "{\n",
            "    \"type\": \"FeatureCollection\",\n",
            "    \"features\": [\n",
            "        {\n",
            "            \"type\": \"Feature\",\n",
            "            \"properties\": {\n",
            "                \"id\": \"5901010076\",\n",
            "                \"name\": \"榮星藥局\",\n",
            "                \"phone\": \"(02)27124696\",\n",
            "                \"address\": \"臺北市松山區南京東路４段１３３巷５弄１號\",\n",
            "                \"mask_adult\": 0,\n",
            "                \"mask_child\": 2490,\n",
            "                \"updated\": \"2022\\/03\\/09 22:53:23\",\n",
            "                \"available\": \"星期一上午看診、星期二上午看診、星期三上午看診、星期四上午看診、星期五上午看診、星期六上午看診、星期日上午看診、星期一下午看診、星期二下午看診、星期三下午看診、星期四下午看診、星期五下午看診、星期六下午看診、星期日下午看診、星期一晚上看診、星期二晚上看診、星期三晚上看診、星期四晚上看診、星期五晚上看診、星期六晚上看診、星期日晚上休診\",\n",
            "                \"note\": \"-\",\n",
            "                \"custom_note\": \"\",\n",
            "                \"website\": \"\",\n",
            "                \"county\": \"臺北市\",\n",
            "                \"town\": \"松山區\",\n",
            "                \"cunli\": \"東勢里\",\n",
            "                \"service_periods\": \"NNNNNNNNNNNNNNNNNNNNY\"\n",
            "            },\n",
            "            \"geometry\": {\n",
            "                \"type\": \"Point\",\n",
            "                \"coordinates\": [\n",
            "                    121.555235,\n",
            "        \n"
          ]
        }
      ],
      "source": [
        "import requests\n",
        "import json\n",
        "\n",
        "url = 'https://raw.githubusercontent.com/kiang/pharmacies/master/json/points.json'\n",
        "# 利用 requests 對 API 來源發送一個請求\n",
        "response = requests.get(url)\n",
        "\n",
        "# 將請求回應的內容存成一個字串格式\n",
        "# print response\n",
        "\n",
        "data = response.text[:1000] # 解析 JSON 数据 [:1000] 因為有限定載入1000 字\n",
        "print(data)\n",
        "# 將長得像 json 格式的字串解析成字典或列表\n",
        "data = json.loads(response.text)\n",
        "\n",
        "\n",
        "\n",
        "# print json content\n",
        "\n"
      ]
    },
    {
      "cell_type": "code",
      "source": [
        "\n",
        "# 3. 接下來，請你將取回來的資料利用 Python 語法計算各地區的藥局數量，完成後 Commit 成第二個版本：\n",
        "med_count = {}\n",
        "\n",
        "# 填入欄位名稱\n",
        "for d in data['features']:\n",
        "    conunty = d['properties']['county']\n",
        "    if conunty not in med_count:\n",
        "         med_count[conunty] = 0\n",
        "    else:\n",
        "         med_count[conunty]+= 1\n",
        "\n",
        "\n",
        "print(med_count)\n",
        "# {'台北市': 123, '新北市': 456 ...}"
      ],
      "metadata": {
        "colab": {
          "base_uri": "https://localhost:8080/"
        },
        "id": "xaRFZ5DZcxJ-",
        "outputId": "8e606aac-432a-471a-80a2-5613d0378b8b"
      },
      "execution_count": 32,
      "outputs": [
        {
          "output_type": "stream",
          "name": "stdout",
          "text": [
            "{'臺北市': 338, '': 48, '高雄市': 421, '臺中市': 419, '臺南市': 270, '基隆市': 56, '新竹市': 38, '嘉義市': 66, '新北市': 500, '桃園市': 263, '新竹縣': 45, '宜蘭縣': 75, '苗栗縣': 55, '彰化縣': 178, '南投縣': 66, '雲林縣': 128, '嘉義縣': 83, '屏東縣': 139, '澎湖縣': 10, '花蓮縣': 45, '臺東縣': 22, '金門縣': 5, '連江縣': 0}\n"
          ]
        }
      ]
    },
    {
      "cell_type": "code",
      "source": [
        "#  接下來請你計算出每個地區的成人剩餘口罩數量，並且將結果從大到小排列，完成後 Commit 第三個版本：\n",
        "\n",
        "mask_count = {}\n",
        "\n",
        "# 填入欄位名稱\n",
        "for d in data['features']:\n",
        "    conunty = d['properties']['county']\n",
        "    # mask_adult = d['properties']['mask_adult']\n",
        "    if conunty in mask_count:\n",
        "       mask_count[conunty] += d['properties']['mask_adult']\n",
        "    else:\n",
        "       mask_count[conunty] = 0\n",
        "\n",
        "\n",
        "\n",
        "# 將結果從大到小排列\n",
        "med_count = dict(sorted(mask_count.items(), key=lambda item: item[1]))\n",
        "\n",
        "print(mask_count)\n",
        "# {'台北市': 12345, '新北市': 45678 ...}"
      ],
      "metadata": {
        "colab": {
          "base_uri": "https://localhost:8080/"
        },
        "id": "TGNhfQryemUK",
        "outputId": "130e75f3-34cd-4f89-85b9-da0bb2a99a9f"
      },
      "execution_count": 38,
      "outputs": [
        {
          "output_type": "stream",
          "name": "stdout",
          "text": [
            "{'臺北市': 322490, '': 68040, '高雄市': 424170, '臺中市': 535430, '臺南市': 392430, '基隆市': 79840, '新竹市': 45630, '嘉義市': 105870, '新北市': 670150, '桃園市': 330010, '新竹縣': 51280, '宜蘭縣': 105830, '苗栗縣': 119500, '彰化縣': 218090, '南投縣': 81680, '雲林縣': 195540, '嘉義縣': 112190, '屏東縣': 181480, '澎湖縣': 11350, '花蓮縣': 56570, '臺東縣': 27720, '金門縣': 15510, '連江縣': 0}\n"
          ]
        }
      ]
    }
  ]
}